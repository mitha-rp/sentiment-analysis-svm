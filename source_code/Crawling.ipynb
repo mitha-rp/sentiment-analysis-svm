{
  "cells": [
    {
      "cell_type": "markdown",
      "source": [
        "# **Crawling data**"
      ],
      "metadata": {
        "id": "gCj0OTM5mrzJ"
      }
    },
    {
      "cell_type": "code",
      "execution_count": null,
      "metadata": {
        "id": "2dignYcIopor"
      },
      "outputs": [],
      "source": [
        "import tweepy\n",
        "import csv\n",
        "import pandas as pd"
      ]
    },
    {
      "cell_type": "code",
      "execution_count": null,
      "metadata": {
        "id": "HAas-CMircKv"
      },
      "outputs": [],
      "source": [
        "# API key didapatkan dari Twitter Dev\n",
        "api_key = \"nhh***\"\n",
        "api_secret_key = \"tDD***\"\n",
        "access_token = \"839***\"\n",
        "access_token_secret = \"Iif***\""
      ]
    },
    {
      "cell_type": "code",
      "execution_count": null,
      "metadata": {
        "id": "-tgzKJPusBib"
      },
      "outputs": [],
      "source": [
        "auth = tweepy.OAuthHandler(api_key, api_secret_key)\n",
        "auth.set_access_token(access_token, access_token_secret)\n",
        "api = tweepy.API(auth, wait_on_rate_limit=True)"
      ]
    },
    {
      "cell_type": "code",
      "execution_count": null,
      "metadata": {
        "id": "ZOqnD6JIrito"
      },
      "outputs": [],
      "source": [
        "file_name = \"disabilitas_penyeberangan_12\"\n",
        "csvFile = open(file_name+\".csv\",\"a+\",newline=\"\",encoding=\"utf-8\")\n",
        "csvWriter = csv.writer(csvFile)"
      ]
    },
    {
      "cell_type": "code",
      "execution_count": null,
      "metadata": {
        "colab": {
          "base_uri": "https://localhost:8080/"
        },
        "id": "FH7-MoREuhXe",
        "outputId": "6a932a56-fdd6-4419-a7e0-9a392aad1086"
      },
      "outputs": [
        {
          "output_type": "stream",
          "name": "stdout",
          "text": [
            "2022-10-16 03:27:43 1581487021570129920 KAI Commuter @agungrzqa Selamat pagi Kak. Kami informasikan di Stasiun Pesing tersedia penyeberangan antar peron yg dapat digunakan disabilitas, ibu hamil, lansia dan ibu dengan anak. Apabila membutuhkan bantuan, silakan bisa mengkomunikasikan ke petugas kami agar dapat dibantu. |1\n",
            "2022-10-14 15:45:18 1580947864712187904 KAI Commuter @monicaevln Selamat malam Kak. Penyeberangan antar peron di stasiun diperuntukkan bagi pengguna prioritas (lansia, ibu hamil &amp; disabilitas) ya. Apabila membutuhkan bantuan atau dalam kondisi kesehatan yang kurang sehat, silakan bisa mengkomunikasikan ke petugas kami agar dapat dibantu. |1\n",
            "Panjang : 2\n"
          ]
        }
      ],
      "source": [
        "c = []\n",
        "i = []\n",
        "u = []\n",
        "t = []\n",
        "\n",
        "for tweet in tweepy.Cursor(api.search, q='disabilitas penyeberangan -filter:retweets', count=1000, lang=\"id\", since='2022-10-09', tweet_mode='extended'\n",
        "                           ).items():\n",
        "    print(tweet.created_at, tweet.id, tweet.user.name, tweet.full_text)\n",
        "    c.append(tweet.created_at)\n",
        "    i.append(tweet.id)\n",
        "    u.append(tweet.user.name)\n",
        "    t.append(tweet.full_text.encode(\"utf-8\"))\n",
        "    tweets = [tweet.created_at, tweet.id, tweet.user.name, tweet.full_text.encode(\"utf-8\")]\n",
        "    csvWriter.writerow(tweets)\n",
        "\n",
        "print(\"Panjang : \" + str(len(c)))\n"
      ]
    },
    {
      "cell_type": "code",
      "execution_count": null,
      "metadata": {
        "colab": {
          "base_uri": "https://localhost:8080/",
          "height": 112
        },
        "id": "ProFq58Fvh7O",
        "outputId": "b489c3a8-ed68-4f74-843d-06d0dacdbf47"
      },
      "outputs": [
        {
          "output_type": "execute_result",
          "data": {
            "text/plain": [
              "                waktu                   id      username  \\\n",
              "0 2022-10-16 03:27:43  1581487021570129920  KAI Commuter   \n",
              "1 2022-10-14 15:45:18  1580947864712187904  KAI Commuter   \n",
              "\n",
              "                                                teks  \n",
              "0  b'@agungrzqa Selamat pagi Kak. Kami informasik...  \n",
              "1  b'@monicaevln Selamat malam Kak. Penyeberangan...  "
            ],
            "text/html": [
              "\n",
              "  <div id=\"df-9f892d41-c6c1-45b1-9a77-c3824978c840\">\n",
              "    <div class=\"colab-df-container\">\n",
              "      <div>\n",
              "<style scoped>\n",
              "    .dataframe tbody tr th:only-of-type {\n",
              "        vertical-align: middle;\n",
              "    }\n",
              "\n",
              "    .dataframe tbody tr th {\n",
              "        vertical-align: top;\n",
              "    }\n",
              "\n",
              "    .dataframe thead th {\n",
              "        text-align: right;\n",
              "    }\n",
              "</style>\n",
              "<table border=\"1\" class=\"dataframe\">\n",
              "  <thead>\n",
              "    <tr style=\"text-align: right;\">\n",
              "      <th></th>\n",
              "      <th>waktu</th>\n",
              "      <th>id</th>\n",
              "      <th>username</th>\n",
              "      <th>teks</th>\n",
              "    </tr>\n",
              "  </thead>\n",
              "  <tbody>\n",
              "    <tr>\n",
              "      <th>0</th>\n",
              "      <td>2022-10-16 03:27:43</td>\n",
              "      <td>1581487021570129920</td>\n",
              "      <td>KAI Commuter</td>\n",
              "      <td>b'@agungrzqa Selamat pagi Kak. Kami informasik...</td>\n",
              "    </tr>\n",
              "    <tr>\n",
              "      <th>1</th>\n",
              "      <td>2022-10-14 15:45:18</td>\n",
              "      <td>1580947864712187904</td>\n",
              "      <td>KAI Commuter</td>\n",
              "      <td>b'@monicaevln Selamat malam Kak. Penyeberangan...</td>\n",
              "    </tr>\n",
              "  </tbody>\n",
              "</table>\n",
              "</div>\n",
              "      <button class=\"colab-df-convert\" onclick=\"convertToInteractive('df-9f892d41-c6c1-45b1-9a77-c3824978c840')\"\n",
              "              title=\"Convert this dataframe to an interactive table.\"\n",
              "              style=\"display:none;\">\n",
              "        \n",
              "  <svg xmlns=\"http://www.w3.org/2000/svg\" height=\"24px\"viewBox=\"0 0 24 24\"\n",
              "       width=\"24px\">\n",
              "    <path d=\"M0 0h24v24H0V0z\" fill=\"none\"/>\n",
              "    <path d=\"M18.56 5.44l.94 2.06.94-2.06 2.06-.94-2.06-.94-.94-2.06-.94 2.06-2.06.94zm-11 1L8.5 8.5l.94-2.06 2.06-.94-2.06-.94L8.5 2.5l-.94 2.06-2.06.94zm10 10l.94 2.06.94-2.06 2.06-.94-2.06-.94-.94-2.06-.94 2.06-2.06.94z\"/><path d=\"M17.41 7.96l-1.37-1.37c-.4-.4-.92-.59-1.43-.59-.52 0-1.04.2-1.43.59L10.3 9.45l-7.72 7.72c-.78.78-.78 2.05 0 2.83L4 21.41c.39.39.9.59 1.41.59.51 0 1.02-.2 1.41-.59l7.78-7.78 2.81-2.81c.8-.78.8-2.07 0-2.86zM5.41 20L4 18.59l7.72-7.72 1.47 1.35L5.41 20z\"/>\n",
              "  </svg>\n",
              "      </button>\n",
              "      \n",
              "  <style>\n",
              "    .colab-df-container {\n",
              "      display:flex;\n",
              "      flex-wrap:wrap;\n",
              "      gap: 12px;\n",
              "    }\n",
              "\n",
              "    .colab-df-convert {\n",
              "      background-color: #E8F0FE;\n",
              "      border: none;\n",
              "      border-radius: 50%;\n",
              "      cursor: pointer;\n",
              "      display: none;\n",
              "      fill: #1967D2;\n",
              "      height: 32px;\n",
              "      padding: 0 0 0 0;\n",
              "      width: 32px;\n",
              "    }\n",
              "\n",
              "    .colab-df-convert:hover {\n",
              "      background-color: #E2EBFA;\n",
              "      box-shadow: 0px 1px 2px rgba(60, 64, 67, 0.3), 0px 1px 3px 1px rgba(60, 64, 67, 0.15);\n",
              "      fill: #174EA6;\n",
              "    }\n",
              "\n",
              "    [theme=dark] .colab-df-convert {\n",
              "      background-color: #3B4455;\n",
              "      fill: #D2E3FC;\n",
              "    }\n",
              "\n",
              "    [theme=dark] .colab-df-convert:hover {\n",
              "      background-color: #434B5C;\n",
              "      box-shadow: 0px 1px 3px 1px rgba(0, 0, 0, 0.15);\n",
              "      filter: drop-shadow(0px 1px 2px rgba(0, 0, 0, 0.3));\n",
              "      fill: #FFFFFF;\n",
              "    }\n",
              "  </style>\n",
              "\n",
              "      <script>\n",
              "        const buttonEl =\n",
              "          document.querySelector('#df-9f892d41-c6c1-45b1-9a77-c3824978c840 button.colab-df-convert');\n",
              "        buttonEl.style.display =\n",
              "          google.colab.kernel.accessAllowed ? 'block' : 'none';\n",
              "\n",
              "        async function convertToInteractive(key) {\n",
              "          const element = document.querySelector('#df-9f892d41-c6c1-45b1-9a77-c3824978c840');\n",
              "          const dataTable =\n",
              "            await google.colab.kernel.invokeFunction('convertToInteractive',\n",
              "                                                     [key], {});\n",
              "          if (!dataTable) return;\n",
              "\n",
              "          const docLinkHtml = 'Like what you see? Visit the ' +\n",
              "            '<a target=\"_blank\" href=https://colab.research.google.com/notebooks/data_table.ipynb>data table notebook</a>'\n",
              "            + ' to learn more about interactive tables.';\n",
              "          element.innerHTML = '';\n",
              "          dataTable['output_type'] = 'display_data';\n",
              "          await google.colab.output.renderOutput(dataTable, element);\n",
              "          const docLink = document.createElement('div');\n",
              "          docLink.innerHTML = docLinkHtml;\n",
              "          element.appendChild(docLink);\n",
              "        }\n",
              "      </script>\n",
              "    </div>\n",
              "  </div>\n",
              "  "
            ]
          },
          "metadata": {},
          "execution_count": 114
        }
      ],
      "source": [
        "dictTweets = {\"waktu\":c, \"id\":i, \"username\":u, \"teks\":t}\n",
        "df = pd.DataFrame(dictTweets, columns=[\"waktu\", \"id\", \"username\", \"teks\"])\n",
        "df"
      ]
    },
    {
      "cell_type": "code",
      "source": [
        "df.to_csv('disabilitas_penyeberangan_12.csv', index=False)"
      ],
      "metadata": {
        "id": "ws3A6bQIesnG"
      },
      "execution_count": null,
      "outputs": []
    },
    {
      "cell_type": "code",
      "source": [
        "file = '../content/disabilitas_penyeberangan_12.csv'\n",
        "\n",
        "# tentukan lokasi file, nama file, dan inisialisasi csv\n",
        "f = open(file, 'r', encoding=\"utf-8\", errors='ignore')\n",
        "reader = csv.reader(f)\n",
        "df"
      ],
      "metadata": {
        "id": "FzVVKS5Xf37d"
      },
      "execution_count": null,
      "outputs": []
    }
  ],
  "metadata": {
    "colab": {
      "provenance": []
    },
    "kernelspec": {
      "display_name": "Python 3",
      "name": "python3"
    },
    "language_info": {
      "name": "python"
    }
  },
  "nbformat": 4,
  "nbformat_minor": 0
}